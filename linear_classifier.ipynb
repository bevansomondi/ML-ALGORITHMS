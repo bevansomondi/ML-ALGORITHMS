{
 "cells": [
  {
   "cell_type": "code",
   "execution_count": 1,
   "metadata": {},
   "outputs": [],
   "source": [
    "import numpy as np\n",
    "from sklearn import datasets "
   ]
  },
  {
   "cell_type": "code",
   "execution_count": 66,
   "metadata": {},
   "outputs": [],
   "source": [
    "class LC:\n",
    "    def __init__(self, learning_rate = 0.1, epochs=50):\n",
    "        self.lr = learning_rate\n",
    "        self.epochs = epochs\n",
    "        self.sigma = lambda z: (1 / (1 + np.exp(-z)))\n",
    "        self.weights = None\n",
    "        self.loss_history = []\n",
    "\n",
    "    def sigma_derivative(self, z):\n",
    "        return self.sigma(z) * (1 - self.sigma(z))\n",
    "\n",
    "    def fit(self, X, y):\n",
    "        self.weights = np.random.randn(X.shape[1])\n",
    "        for epoch in range(self.epochs):\n",
    "            self.update_weights(X, y)\n",
    "            self.loss_history.append(self.average_loss(X,y))\n",
    "            print(f\"{epoch + 1}/{self.epochs} loss: {self.loss_history[epoch]}\")\n",
    "            \n",
    "    def update_weights(self, X, y):\n",
    "        dl_dw = 0\n",
    "        N = len(X)\n",
    "        \n",
    "        #loop over all the examples \n",
    "        for i in range(N):\n",
    "            x = X[i]\n",
    "            sigma_input  = np.dot(self.weights, x)\n",
    "            error  = y[i] - self.sigma(sigma_input)\n",
    "            \n",
    "            #2 is just some scaling number, remove it incase of model mischief\n",
    "            dl_dw += -2 * x * error * self.sigma_derivative(sigma_input)\n",
    "\n",
    "        #update the weights\n",
    "        self.weights -= self.lr * (dl_dw / float(N))\n",
    "    \n",
    "    def average_loss(self, X, y):\n",
    "        N = len(X)\n",
    "        losses = [(y[i] - self.sigma(np.dot(self.weights, X[i])))**2 for i in range(N)]\n",
    "        avg_loss = np.sum(np.array(losses)) / float(N)\n",
    "\n",
    "        return avg_loss\n",
    "    \n",
    "    def predict(self, X):\n",
    "        preds  = np.array([self.sigma(np.dot(self.weights, x)) for x in X])\n",
    "        #set all values less than or equal to 0.5 to 0\n",
    "        preds[preds <= 0.5] = 0\n",
    "        #set all those grater than zero to 1\n",
    "        preds[preds > 0] = 1\n",
    "        \n",
    "        return preds\n",
    "        "
   ]
  },
  {
   "cell_type": "code",
   "execution_count": 61,
   "metadata": {},
   "outputs": [],
   "source": [
    "X, y = datasets.make_blobs(500, n_features=3, centers=2)\n",
    "split_ratio = int(0.7 * len(X))\n",
    "X_train, X_test, y_train, y_test = X[:split_ratio], X[split_ratio:], y[:split_ratio], y[split_ratio:]"
   ]
  },
  {
   "cell_type": "code",
   "execution_count": 84,
   "metadata": {},
   "outputs": [
    {
     "name": "stdout",
     "output_type": "stream",
     "text": [
      "1/50 loss: 0.35130133765709143\n",
      "2/50 loss: 0.18441698396905282\n",
      "3/50 loss: 0.10715109010379711\n",
      "4/50 loss: 0.07212082563944947\n",
      "5/50 loss: 0.053098968186916944\n",
      "6/50 loss: 0.04122640023371311\n",
      "7/50 loss: 0.03308887515971425\n",
      "8/50 loss: 0.02717276856594242\n",
      "9/50 loss: 0.022708362902061595\n",
      "10/50 loss: 0.019253498549906784\n",
      "11/50 loss: 0.01652919029795562\n",
      "12/50 loss: 0.014347748878875244\n",
      "13/50 loss: 0.012577572108547172\n",
      "14/50 loss: 0.011123839266419662\n",
      "15/50 loss: 0.009916889428913899\n",
      "16/50 loss: 0.008904750227871436\n",
      "17/50 loss: 0.008048127382190089\n",
      "18/50 loss: 0.007316951853456703\n",
      "19/50 loss: 0.006687955020397778\n",
      "20/50 loss: 0.006142940645651031\n",
      "21/50 loss: 0.005667537856529465\n",
      "22/50 loss: 0.005250290901901402\n",
      "23/50 loss: 0.00488198755865846\n",
      "24/50 loss: 0.004555158524755321\n",
      "25/50 loss: 0.00426370060134533\n",
      "26/50 loss: 0.004002590392638838\n",
      "27/50 loss: 0.003767664832703347\n",
      "28/50 loss: 0.003555451506251385\n",
      "29/50 loss: 0.003363036401967825\n",
      "30/50 loss: 0.0031879600455146434\n",
      "31/50 loss: 0.0030281353241014665\n",
      "32/50 loss: 0.0028817820197273945\n",
      "33/50 loss: 0.0027473743084594415\n",
      "34/50 loss: 0.002623598392740728\n",
      "35/50 loss: 0.0025093181062438514\n",
      "36/50 loss: 0.0024035468318720113\n",
      "37/50 loss: 0.0023054244496542946\n",
      "38/50 loss: 0.002214198315663412\n",
      "39/50 loss: 0.0021292074895713263\n",
      "40/50 loss: 0.002049869594349786\n",
      "41/50 loss: 0.0019756698195498956\n",
      "42/50 loss: 0.0019061516788458942\n",
      "43/50 loss: 0.0018409092099810876\n",
      "44/50 loss: 0.00177958036603453\n",
      "45/50 loss: 0.0017218413948812325\n",
      "46/50 loss: 0.0016674020417485494\n",
      "47/50 loss: 0.0016160014400810687\n",
      "48/50 loss: 0.001567404580198187\n",
      "49/50 loss: 0.0015213992647549418\n",
      "50/50 loss: 0.0014777934757948799\n"
     ]
    }
   ],
   "source": [
    "lc = LC()\n",
    "lc.fit(X_train, y_train)\n"
   ]
  },
  {
   "cell_type": "code",
   "execution_count": 85,
   "metadata": {},
   "outputs": [
    {
     "data": {
      "text/plain": [
       "1.0"
      ]
     },
     "execution_count": 85,
     "metadata": {},
     "output_type": "execute_result"
    }
   ],
   "source": [
    "predictions = lc.predict(X_test)\n",
    "\n",
    "np.sum((y_test == predictions)) / len(X_test)"
   ]
  },
  {
   "cell_type": "code",
   "execution_count": 86,
   "metadata": {},
   "outputs": [],
   "source": [
    "import matplotlib.pyplot as plt "
   ]
  },
  {
   "cell_type": "code",
   "execution_count": 87,
   "metadata": {},
   "outputs": [
    {
     "data": {
      "text/plain": [
       "[<matplotlib.lines.Line2D at 0x28cafdf8190>]"
      ]
     },
     "execution_count": 87,
     "metadata": {},
     "output_type": "execute_result"
    },
    {
     "data": {
      "image/png": "[encoded data removed]",
      "text/plain": [
       "<Figure size 640x480 with 1 Axes>"
      ]
     },
     "metadata": {},
     "output_type": "display_data"
    }
   ],
   "source": [
    "plt.plot(lc.loss_history, color=\"red\")"
   ]
  },
  {
   "cell_type": "code",
   "execution_count": null,
   "metadata": {},
   "outputs": [],
   "source": []
  }
 ],
 "metadata": {
  "kernelspec": {
   "display_name": "cv_env",
   "language": "python",
   "name": "python3"
  },
  "language_info": {
   "codemirror_mode": {
    "name": "ipython",
    "version": 3
   },
   "file_extension": ".py",
   "mimetype": "text/x-python",
   "name": "python",
   "nbconvert_exporter": "python",
   "pygments_lexer": "ipython3",
   "version": "3.10.7"
  }
 },
 "nbformat": 4,
 "nbformat_minor": 2
}
