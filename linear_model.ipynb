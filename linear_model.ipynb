{
 "cells": [
  {
   "cell_type": "code",
   "execution_count": 1,
   "metadata": {},
   "outputs": [],
   "source": [
    "import numpy as np"
   ]
  },
  {
   "cell_type": "code",
   "execution_count": 68,
   "metadata": {},
   "outputs": [],
   "source": [
    "class vanillaGrad(object):\n",
    "    def __init__(self,weight_shape, learning_rate=0.1, C=0, loss_function=\"MSE\"):\n",
    "        self.weights = np.array(np.random.randn(weight_shape +1), ndmin=2)#adding the one extra weight parameter (the bias term)\n",
    "        self.lr = learning_rate\n",
    "        self.loss = loss_function\n",
    "        self.history = {}\n",
    "        self.C = C# parameter that controls the amount of regulaarization\n",
    "\n",
    "    def update_w(self, X, y):\n",
    "        #adding one extra column of 1's to the feature set \n",
    "        dl_dw = 0\n",
    "        dl_db = 0 #change in bias term\n",
    "        \n",
    "        \n",
    "        N = len(X)\n",
    "            #looping over all the training data\n",
    "        for i in range(N):\n",
    "            x = np.array(X[i], ndmin=2).T\n",
    "            np.dot(self.weights, x)  \n",
    "\n",
    "            if self.loss == \"MSE\":  \n",
    "                error_term = -2 * (y[i] - np.dot(self.weights, x))                          \n",
    "                dl_dw += (x[:-1] * error_term)\n",
    "                dl_db += error_term\n",
    "                #te derivative of the regularization term wrt weight \n",
    "                dl_dw_reg = self.C * np.sum(self.weights)\n",
    "                \n",
    "            \n",
    "            #to use absolute loss function in future \n",
    "            else:\n",
    "                 print(\"Only MSE allowed for now\")\n",
    "                \n",
    "        #since the bias is the last term in the weight matrix dl_dw used to update terms upto the second last \n",
    "        #dividing by N to average the loss\n",
    "        print(self.weights[0][:-1], dl_dw)\n",
    "        self.weights[0][:-1] -= 1/N * ((self.lr * dl_dw.T) + dl_dw_reg)\n",
    "        self.weights[0][-1] -= 1/N * self.lr * dl_db\n",
    "\n",
    "        return self.weights\n",
    "\n",
    "    def average_loss(self, X, y):\n",
    "            X = np.array(X, ndmin=2)\n",
    "            total_error = 0.0\n",
    "            N = len(X)\n",
    "            for i in range(N):\n",
    "                x = X[i].T\n",
    "                if self.loss == \"MSE\":\n",
    "                    total_error += (y[i] - np.dot(self.weights, x)) **2 \n",
    "                #to use absolute loss funct in future\n",
    "                else:\n",
    "                     print(\"Only MSE allowed for now\")\n",
    "                \n",
    "            return total_error / float(N)\n",
    "\n",
    "        \n",
    "    def train(self, X, y, epochs):\n",
    "        for epoch in range(epochs):\n",
    "                #update the weights\n",
    "                self.update_w(X, y)\n",
    "                #calculate the loss for the epoch \n",
    "                self.history[epoch] = self.average_loss(X, y)\n",
    "\n",
    "                print(f\"Epoch {epoch} / {epochs}: loss {self.history[epoch]}\")\n",
    "    \n",
    "    def test(self, X,y):\n",
    "         #return the MSE\n",
    "         MSE = self.average_loss(X, y)\n",
    "         predicted = [np.dot(self.weights, x) for x in X]\n",
    "         predicted = list(predicted)\n",
    "         return predicted, MSE\n",
    "              \n",
    "              "
   ]
  },
  {
   "cell_type": "code",
   "execution_count": 32,
   "metadata": {},
   "outputs": [],
   "source": [
    "#generating data \n",
    "X = np.random.rand(500, 1)\n",
    "#generate ones and reshape \n",
    "ones = np.ones(len(X)).reshape(-1,1)\n",
    "X = np.append(X, ones, axis=1)\n",
    "y = []\n",
    "# y = 2x1 + 3x2\n",
    "for x in X:\n",
    "    #the bias term is 2\n",
    "    y.append(2*x[0] + 2)\n",
    "\n",
    "#split the dataset into train and test set \n",
    "X_train, X_test, y_train, y_test = X[:70], X[70:], y[:70], y[70:]"
   ]
  },
  {
   "cell_type": "code",
   "execution_count": 69,
   "metadata": {},
   "outputs": [
    {
     "data": {
      "text/plain": [
       "array([-0.85825527, -1.30801141])"
      ]
     },
     "execution_count": 69,
     "metadata": {},
     "output_type": "execute_result"
    }
   ],
   "source": [
    "#create instance of the model\n",
    "network = vanillaGrad(1, 0.3, 1)\n",
    "network.weights[0]"
   ]
  },
  {
   "cell_type": "code",
   "execution_count": 70,
   "metadata": {},
   "outputs": [
    {
     "name": "stdout",
     "output_type": "stream",
     "text": [
      "[-0.85825527] [[-408.05018238]]\n"
     ]
    },
    {
     "ename": "ValueError",
     "evalue": "non-broadcastable output operand with shape (1,) doesn't match the broadcast shape (1,1)",
     "output_type": "error",
     "traceback": [
      "\u001b[1;31m---------------------------------------------------------------------------\u001b[0m",
      "\u001b[1;31mValueError\u001b[0m                                Traceback (most recent call last)",
      "Cell \u001b[1;32mIn[70], line 2\u001b[0m\n\u001b[0;32m      1\u001b[0m \u001b[38;5;66;03m#train the model\u001b[39;00m\n\u001b[1;32m----> 2\u001b[0m \u001b[43mnetwork\u001b[49m\u001b[38;5;241;43m.\u001b[39;49m\u001b[43mtrain\u001b[49m\u001b[43m(\u001b[49m\u001b[43mX_train\u001b[49m\u001b[43m,\u001b[49m\u001b[43m \u001b[49m\u001b[43my_train\u001b[49m\u001b[43m,\u001b[49m\u001b[43m \u001b[49m\u001b[43mepochs\u001b[49m\u001b[38;5;241;43m=\u001b[39;49m\u001b[38;5;241;43m5\u001b[39;49m\u001b[43m)\u001b[49m\n",
      "Cell \u001b[1;32mIn[68], line 59\u001b[0m, in \u001b[0;36mvanillaGrad.train\u001b[1;34m(self, X, y, epochs)\u001b[0m\n\u001b[0;32m     56\u001b[0m \u001b[38;5;28;01mdef\u001b[39;00m \u001b[38;5;21mtrain\u001b[39m(\u001b[38;5;28mself\u001b[39m, X, y, epochs):\n\u001b[0;32m     57\u001b[0m     \u001b[38;5;28;01mfor\u001b[39;00m epoch \u001b[38;5;129;01min\u001b[39;00m \u001b[38;5;28mrange\u001b[39m(epochs):\n\u001b[0;32m     58\u001b[0m             \u001b[38;5;66;03m#update the weights\u001b[39;00m\n\u001b[1;32m---> 59\u001b[0m             \u001b[38;5;28;43mself\u001b[39;49m\u001b[38;5;241;43m.\u001b[39;49m\u001b[43mupdate_w\u001b[49m\u001b[43m(\u001b[49m\u001b[43mX\u001b[49m\u001b[43m,\u001b[49m\u001b[43m \u001b[49m\u001b[43my\u001b[49m\u001b[43m)\u001b[49m\n\u001b[0;32m     60\u001b[0m             \u001b[38;5;66;03m#calculate the loss for the epoch \u001b[39;00m\n\u001b[0;32m     61\u001b[0m             \u001b[38;5;28mself\u001b[39m\u001b[38;5;241m.\u001b[39mhistory[epoch] \u001b[38;5;241m=\u001b[39m \u001b[38;5;28mself\u001b[39m\u001b[38;5;241m.\u001b[39maverage_loss(X, y)\n",
      "Cell \u001b[1;32mIn[68], line 36\u001b[0m, in \u001b[0;36mvanillaGrad.update_w\u001b[1;34m(self, X, y)\u001b[0m\n\u001b[0;32m     33\u001b[0m \u001b[38;5;66;03m#since the bias is the last term in the weight matrix dl_dw used to update terms upto the second last \u001b[39;00m\n\u001b[0;32m     34\u001b[0m \u001b[38;5;66;03m#dividing by N to average the loss\u001b[39;00m\n\u001b[0;32m     35\u001b[0m \u001b[38;5;28mprint\u001b[39m(\u001b[38;5;28mself\u001b[39m\u001b[38;5;241m.\u001b[39mweights[\u001b[38;5;241m0\u001b[39m][:\u001b[38;5;241m-\u001b[39m\u001b[38;5;241m1\u001b[39m], dl_dw)\n\u001b[1;32m---> 36\u001b[0m \u001b[38;5;28mself\u001b[39m\u001b[38;5;241m.\u001b[39mweights[\u001b[38;5;241m0\u001b[39m][:\u001b[38;5;241m-\u001b[39m\u001b[38;5;241m1\u001b[39m] \u001b[38;5;241m-\u001b[39m\u001b[38;5;241m=\u001b[39m \u001b[38;5;241m1\u001b[39m\u001b[38;5;241m/\u001b[39mN \u001b[38;5;241m*\u001b[39m ((\u001b[38;5;28mself\u001b[39m\u001b[38;5;241m.\u001b[39mlr \u001b[38;5;241m*\u001b[39m dl_dw\u001b[38;5;241m.\u001b[39mT) \u001b[38;5;241m+\u001b[39m dl_dw_reg)\n\u001b[0;32m     37\u001b[0m \u001b[38;5;28mself\u001b[39m\u001b[38;5;241m.\u001b[39mweights[\u001b[38;5;241m0\u001b[39m][\u001b[38;5;241m-\u001b[39m\u001b[38;5;241m1\u001b[39m] \u001b[38;5;241m-\u001b[39m\u001b[38;5;241m=\u001b[39m \u001b[38;5;241m1\u001b[39m\u001b[38;5;241m/\u001b[39mN \u001b[38;5;241m*\u001b[39m \u001b[38;5;28mself\u001b[39m\u001b[38;5;241m.\u001b[39mlr \u001b[38;5;241m*\u001b[39m dl_db\n\u001b[0;32m     39\u001b[0m \u001b[38;5;28;01mreturn\u001b[39;00m \u001b[38;5;28mself\u001b[39m\u001b[38;5;241m.\u001b[39mweights\n",
      "\u001b[1;31mValueError\u001b[0m: non-broadcastable output operand with shape (1,) doesn't match the broadcast shape (1,1)"
     ]
    }
   ],
   "source": [
    "#train the model\n",
    "network.train(X_train, y_train, epochs=5)\n"
   ]
  },
  {
   "cell_type": "code",
   "execution_count": 81,
   "metadata": {},
   "outputs": [],
   "source": [
    "import matplotlib.pyplot as plt "
   ]
  },
  {
   "cell_type": "code",
   "execution_count": 82,
   "metadata": {},
   "outputs": [
    {
     "data": {
      "image/png": "[encoded data removed]",
      "text/plain": [
       "<Figure size 640x480 with 1 Axes>"
      ]
     },
     "metadata": {},
     "output_type": "display_data"
    }
   ],
   "source": [
    "fitted_line, _ = network.test(X_test, y_test)\n",
    "plt.scatter(X_test, y_test, label=\"data points\")\n",
    "plt.plot(X_test, fitted_line, color=\"red\", label=\"fitted line\")\n",
    "plt.title(f\"Regularization C:{network.C}\")\n",
    "plt.xlabel(\"X\")\n",
    "plt.ylabel(\"Y\")\n",
    "plt.legend()\n",
    "plt.show()"
   ]
  },
  {
   "cell_type": "code",
   "execution_count": 73,
   "metadata": {},
   "outputs": [
    {
     "data": {
      "text/plain": [
       "array([-408.90843765])"
      ]
     },
     "execution_count": 73,
     "metadata": {},
     "output_type": "execute_result"
    }
   ],
   "source": [
    "np.array([-0.85825527]) + np.array([-408.05018238])"
   ]
  },
  {
   "cell_type": "code",
   "execution_count": null,
   "metadata": {},
   "outputs": [],
   "source": []
  }
 ],
 "metadata": {
  "kernelspec": {
   "display_name": "cv_env",
   "language": "python",
   "name": "python3"
  },
  "language_info": {
   "codemirror_mode": {
    "name": "ipython",
    "version": 3
   },
   "file_extension": ".py",
   "mimetype": "text/x-python",
   "name": "python",
   "nbconvert_exporter": "python",
   "pygments_lexer": "ipython3",
   "version": "3.10.7"
  }
 },
 "nbformat": 4,
 "nbformat_minor": 2
}
