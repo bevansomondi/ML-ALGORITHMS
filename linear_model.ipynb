{
 "cells": [
  {
   "cell_type": "code",
   "execution_count": 2,
   "metadata": {},
   "outputs": [],
   "source": [
    "import numpy as np"
   ]
  },
  {
   "cell_type": "code",
   "execution_count": 61,
   "metadata": {},
   "outputs": [],
   "source": [
    "class vanillaGrad(object):\n",
    "    def __init__(self,weight_shape, learning_rate=0.1, loss_function=\"MSE\"):\n",
    "        self.weights = np.array(np.random.randn(weight_shape), ndmin=2)\n",
    "        self.lr = learning_rate\n",
    "        self.loss = loss_function\n",
    "        self.history = {}\n",
    "\n",
    "    def update_w(self, X, y):\n",
    "        \"\"\" The default loss function is the preferred Mean Squared error, the other alternative is the MAE\"\"\"\n",
    "        dl_dw = 0\n",
    "        \n",
    "        \n",
    "        N = len(X)\n",
    "            #looping over all the training data\n",
    "        for i in range(N):\n",
    "            x = np.array(X[i], ndmin=2).T\n",
    "            np.dot(self.weights, x)  \n",
    "\n",
    "            if self.loss == \"MSE\":                            \n",
    "                dl_dw += (-2 *x * (y[i] - np.dot(self.weights, x)))\n",
    "            #to use absolute loss function in future \n",
    "            else:\n",
    "                 print(\"Only MSE allowed for now\")\n",
    "                \n",
    "        #update the weight matrix\n",
    "        #dividing by N to average the loss\n",
    "        self.weights -= 1/N * (self.lr * dl_dw.T)\n",
    "\n",
    "        return self.weights\n",
    "\n",
    "    def average_loss(self, X, y):\n",
    "            X = np.array(X, ndmin=2)\n",
    "            total_error = 0.0\n",
    "            N = len(X)\n",
    "            for i in range(N):\n",
    "                x = X[i].T\n",
    "                if self.loss == \"MSE\":\n",
    "                    total_error += (y[i] - np.dot(self.weights, x)) **2\n",
    "                #to use absolute loss funct in future\n",
    "                else:\n",
    "                     print(\"Only MSE allowed for now\")\n",
    "\n",
    "        \n",
    "    def train(self, X, y, epochs):\n",
    "        for epoch in range(epochs):\n",
    "                #update the weights\n",
    "                self.update_w(X, y)\n",
    "                #calculate the loss for the epoch \n",
    "                self.history[epoch] = self.average_loss(X, y)\n",
    "\n",
    "                print(f\"Epoch {epoch} / {epochs}: loss {self.history[epoch]}\")\n",
    "    \n",
    "    def test(self, X,y):\n",
    "         #return the MSE\n",
    "         MSE = self.average_loss(X, y)\n",
    "         return MSE\n",
    "              \n",
    "              "
   ]
  },
  {
   "cell_type": "code",
   "execution_count": 59,
   "metadata": {},
   "outputs": [],
   "source": [
    "#generating data \n",
    "X = np.random.rand(500, 3)\n",
    "y = []\n",
    "# y = 2x1 + 3x2\n",
    "for x in X:\n",
    "    y.append(2*x[0] + 3*x[1] + x[2])\n",
    "\n",
    "#split the dataset into train and test set \n",
    "X_train, X_test, y_train, y_test = X[:70], X[70:], y[:70], y[70:]"
   ]
  },
  {
   "cell_type": "code",
   "execution_count": 68,
   "metadata": {},
   "outputs": [],
   "source": [
    "#create instance of the model\n",
    "network = vanillaGrad(3, 0.3, \"MSE\")"
   ]
  },
  {
   "cell_type": "code",
   "execution_count": 69,
   "metadata": {},
   "outputs": [
    {
     "name": "stdout",
     "output_type": "stream",
     "text": [
      "Epoch 0 / 100: loss [0.82778796]\n",
      "Epoch 1 / 100: loss [0.22145824]\n",
      "Epoch 2 / 100: loss [0.06352509]\n",
      "Epoch 3 / 100: loss [0.02204425]\n",
      "Epoch 4 / 100: loss [0.01083445]\n",
      "Epoch 5 / 100: loss [0.00751865]\n",
      "Epoch 6 / 100: loss [0.00628459]\n",
      "Epoch 7 / 100: loss [0.00562073]\n",
      "Epoch 8 / 100: loss [0.00513225]\n",
      "Epoch 9 / 100: loss [0.00471447]\n",
      "Epoch 10 / 100: loss [0.00433821]\n",
      "Epoch 11 / 100: loss [0.00399402]\n",
      "Epoch 12 / 100: loss [0.00367775]\n",
      "Epoch 13 / 100: loss [0.00338677]\n",
      "Epoch 14 / 100: loss [0.00311894]\n",
      "Epoch 15 / 100: loss [0.00287239]\n",
      "Epoch 16 / 100: loss [0.00264541]\n",
      "Epoch 17 / 100: loss [0.00243644]\n",
      "Epoch 18 / 100: loss [0.00224404]\n",
      "Epoch 19 / 100: loss [0.00206689]\n",
      "Epoch 20 / 100: loss [0.00190379]\n",
      "Epoch 21 / 100: loss [0.0017536]\n",
      "Epoch 22 / 100: loss [0.0016153]\n",
      "Epoch 23 / 100: loss [0.00148795]\n",
      "Epoch 24 / 100: loss [0.00137068]\n",
      "Epoch 25 / 100: loss [0.00126268]\n",
      "Epoch 26 / 100: loss [0.00116322]\n",
      "Epoch 27 / 100: loss [0.00107162]\n",
      "Epoch 28 / 100: loss [0.00098726]\n",
      "Epoch 29 / 100: loss [0.00090956]\n",
      "Epoch 30 / 100: loss [0.000838]\n",
      "Epoch 31 / 100: loss [0.00077208]\n",
      "Epoch 32 / 100: loss [0.00071137]\n",
      "Epoch 33 / 100: loss [0.00065544]\n",
      "Epoch 34 / 100: loss [0.00060393]\n",
      "Epoch 35 / 100: loss [0.00055647]\n",
      "Epoch 36 / 100: loss [0.00051275]\n",
      "Epoch 37 / 100: loss [0.00047248]\n",
      "Epoch 38 / 100: loss [0.00043538]\n",
      "Epoch 39 / 100: loss [0.0004012]\n",
      "Epoch 40 / 100: loss [0.00036971]\n",
      "Epoch 41 / 100: loss [0.0003407]\n",
      "Epoch 42 / 100: loss [0.00031397]\n",
      "Epoch 43 / 100: loss [0.00028935]\n",
      "Epoch 44 / 100: loss [0.00026666]\n",
      "Epoch 45 / 100: loss [0.00024575]\n",
      "Epoch 46 / 100: loss [0.00022649]\n",
      "Epoch 47 / 100: loss [0.00020874]\n",
      "Epoch 48 / 100: loss [0.00019238]\n",
      "Epoch 49 / 100: loss [0.00017731]\n",
      "Epoch 50 / 100: loss [0.00016342]\n",
      "Epoch 51 / 100: loss [0.00015062]\n",
      "Epoch 52 / 100: loss [0.00013883]\n",
      "Epoch 53 / 100: loss [0.00012796]\n",
      "Epoch 54 / 100: loss [0.00011795]\n",
      "Epoch 55 / 100: loss [0.00010872]\n",
      "Epoch 56 / 100: loss [0.00010021]\n",
      "Epoch 57 / 100: loss [9.23699346e-05]\n",
      "Epoch 58 / 100: loss [8.514477e-05]\n",
      "Epoch 59 / 100: loss [7.8485794e-05]\n",
      "Epoch 60 / 100: loss [7.23485381e-05]\n",
      "Epoch 61 / 100: loss [6.66920362e-05]\n",
      "Epoch 62 / 100: loss [6.14785473e-05]\n",
      "Epoch 63 / 100: loss [5.66733013e-05]\n",
      "Epoch 64 / 100: loss [5.2244264e-05]\n",
      "Epoch 65 / 100: loss [4.81619213e-05]\n",
      "Epoch 66 / 100: loss [4.43990805e-05]\n",
      "Epoch 67 / 100: loss [4.09306867e-05]\n",
      "Epoch 68 / 100: loss [3.77336548e-05]\n",
      "Epoch 69 / 100: loss [3.47867136e-05]\n",
      "Epoch 70 / 100: loss [3.20702633e-05]\n",
      "Epoch 71 / 100: loss [2.95662436e-05]\n",
      "Epoch 72 / 100: loss [2.72580126e-05]\n",
      "Epoch 73 / 100: loss [2.51302349e-05]\n",
      "Epoch 74 / 100: loss [2.31687788e-05]\n",
      "Epoch 75 / 100: loss [2.13606216e-05]\n",
      "Epoch 76 / 100: loss [1.96937624e-05]\n",
      "Epoch 77 / 100: loss [1.81571418e-05]\n",
      "Epoch 78 / 100: loss [1.67405676e-05]\n",
      "Epoch 79 / 100: loss [1.54346468e-05]\n",
      "Epoch 80 / 100: loss [1.42307227e-05]\n",
      "Epoch 81 / 100: loss [1.31208173e-05]\n",
      "Epoch 82 / 100: loss [1.20975775e-05]\n",
      "Epoch 83 / 100: loss [1.11542265e-05]\n",
      "Epoch 84 / 100: loss [1.02845182e-05]\n",
      "Epoch 85 / 100: loss [9.48269598e-06]\n",
      "Epoch 86 / 100: loss [8.74345363e-06]\n",
      "Epoch 87 / 100: loss [8.06190057e-06]\n",
      "Epoch 88 / 100: loss [7.433529e-06]\n",
      "Epoch 89 / 100: loss [6.85418392e-06]\n",
      "Epoch 90 / 100: loss [6.32003546e-06]\n",
      "Epoch 91 / 100: loss [5.82755339e-06]\n",
      "Epoch 92 / 100: loss [5.37348364e-06]\n",
      "Epoch 93 / 100: loss [4.95482665e-06]\n",
      "Epoch 94 / 100: loss [4.56881742e-06]\n",
      "Epoch 95 / 100: loss [4.21290717e-06]\n",
      "Epoch 96 / 100: loss [3.88474635e-06]\n",
      "Epoch 97 / 100: loss [3.58216907e-06]\n",
      "Epoch 98 / 100: loss [3.30317874e-06]\n",
      "Epoch 99 / 100: loss [3.04593476e-06]\n"
     ]
    },
    {
     "data": {
      "text/plain": [
       "array([[2.00188154, 2.99444531, 1.00341172]])"
      ]
     },
     "execution_count": 69,
     "metadata": {},
     "output_type": "execute_result"
    }
   ],
   "source": [
    "#train the model\n",
    "network.train(X_train, y_train, epochs=100)\n",
    "network.weights\n"
   ]
  },
  {
   "cell_type": "code",
   "execution_count": 70,
   "metadata": {},
   "outputs": [
    {
     "data": {
      "text/plain": [
       "(array([3.04593476e-06]), array([3.83270629e-06]))"
      ]
     },
     "execution_count": 70,
     "metadata": {},
     "output_type": "execute_result"
    }
   ],
   "source": [
    "#test the nodel\n",
    "network.test(X_train, y_train), network.test(X_test, y_test)"
   ]
  },
  {
   "cell_type": "code",
   "execution_count": 178,
   "metadata": {},
   "outputs": [
    {
     "data": {
      "text/plain": [
       "[<matplotlib.lines.Line2D at 0x24bd81a3790>]"
      ]
     },
     "execution_count": 178,
     "metadata": {},
     "output_type": "execute_result"
    },
    {
     "data": {
      "image/png": "[encoded data removed]",
      "text/plain": [
       "<Figure size 640x480 with 1 Axes>"
      ]
     },
     "metadata": {},
     "output_type": "display_data"
    }
   ],
   "source": [
    "import matplotlib.pyplot as plt \n",
    "plt.plot(network.history.keys(), network.history.values())"
   ]
  },
  {
   "cell_type": "code",
   "execution_count": null,
   "metadata": {},
   "outputs": [],
   "source": []
  }
 ],
 "metadata": {
  "kernelspec": {
   "display_name": "cv_env",
   "language": "python",
   "name": "python3"
  },
  "language_info": {
   "codemirror_mode": {
    "name": "ipython",
    "version": 3
   },
   "file_extension": ".py",
   "mimetype": "text/x-python",
   "name": "python",
   "nbconvert_exporter": "python",
   "pygments_lexer": "ipython3",
   "version": "3.10.7"
  }
 },
 "nbformat": 4,
 "nbformat_minor": 2
}
