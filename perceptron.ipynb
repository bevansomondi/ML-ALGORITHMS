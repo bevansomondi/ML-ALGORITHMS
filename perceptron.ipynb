{
 "cells": [
  {
   "cell_type": "code",
   "execution_count": 1,
   "metadata": {},
   "outputs": [],
   "source": [
    "import numpy as np\n",
    "import matplotlib.pyplot as plt"
   ]
  },
  {
   "cell_type": "code",
   "execution_count": 7,
   "metadata": {},
   "outputs": [],
   "source": [
    "#create OR datase\n",
    "X_OR = np.array([[0,0], [0,1], [1,0], [1,1]])\n",
    "y_OR = np.array([0,1,1,1])\n",
    "\n",
    "X_AND = np.array([[0,0], [0,1], [1,0], [1,1]])\n",
    "y_AND = np.array([0,0,0,1])\n",
    "\n",
    "X_XOR = np.array([[0,0], [0,1], [1,0], [1,1]])\n",
    "y_XOR = np.array([0,1,1,0])\n"
   ]
  },
  {
   "cell_type": "code",
   "execution_count": 34,
   "metadata": {},
   "outputs": [],
   "source": [
    "def plot_hyperplane(weights_and_bias, X, y, title=\"\"):\n",
    "    bias = weights_and_bias[-1]\n",
    "    #the equation of the hyperlane is given by \n",
    "    #w1x1 + w2x2 + ...wnxn + bias = 0\n",
    "    #for 2 dimesnional data \n",
    "    #x2 = -(w1x1 + bias) / w2\n",
    "    x_1_min = np.min(X[:, 0])\n",
    "    x_1_max = np.max(X[:, 1])\n",
    "\n",
    "    x_2_min = -(weights_and_bias[0]*x_1_min + bias) / weights_and_bias[1]\n",
    "    x_2_max = -(weights_and_bias[0]*x_1_max + bias) / weights_and_bias[1]\n",
    "\n",
    "    fig, ax = plt.subplots()\n",
    "    ax.scatter(X[:, 0], X[:, 1], c=y)\n",
    "    ax.plot([x_1_min, x_1_max], [x_2_min, x_2_max], c=\"red\")\n",
    "    plt.grid(True)\n",
    "    plt.title(title)"
   ]
  },
  {
   "cell_type": "code",
   "execution_count": 24,
   "metadata": {},
   "outputs": [],
   "source": [
    "class Perceptron:\n",
    "    def __init__(self, learning_rate=0.1 , n_iters=20):\n",
    "        self.lr = learning_rate\n",
    "        self.n_iters = n_iters\n",
    "        self.step = lambda z: [1 if step > 0 else 0 for step in z]\n",
    "    \n",
    "    def train(self, X, y):\n",
    "        #initialize the weignht matrix with some random values \n",
    "        self.weights = np.random.randn(X.shape[1] + 1) / np.sqrt(X.shape[1])\n",
    "        \n",
    "        #add column of 1's to take care of the biases\n",
    "        X = np.c_[X, np.ones(X.shape[0])]\n",
    "\n",
    "        for _ in range(self.n_iters):\n",
    "            linear_reg = np.dot(X, self.weights.T)\n",
    "            pred = self.step(linear_reg)\n",
    "            \n",
    "            error = pred - y\n",
    "\n",
    "            self.weights -= self.lr * (X.T.dot(error.T))\n",
    "            \n",
    "\n",
    "    def predict(self, X):\n",
    "        #make sure that X is 2d\n",
    "        X = np.atleast_2d(X)\n",
    "        X = np.c_[X, np.ones(X.shape[0])]\n",
    "\n",
    "        linear_reg = np.dot(X, self.weights.T)\n",
    "        return self.step(linear_reg)\n",
    "        \n"
   ]
  },
  {
   "cell_type": "code",
   "execution_count": 37,
   "metadata": {},
   "outputs": [
    {
     "data": {
      "image/png": "[encoded data removed]",
      "text/plain": [
       "<Figure size 640x480 with 1 Axes>"
      ]
     },
     "metadata": {},
     "output_type": "display_data"
    }
   ],
   "source": [
    "p = Perceptron(n_iters=50)\n",
    "p.train(X_AND, y_AND)\n",
    "plot_hyperplane(p.weights, X_AND, y_AND, \"AND\")\n"
   ]
  },
  {
   "cell_type": "code",
   "execution_count": null,
   "metadata": {},
   "outputs": [],
   "source": []
  }
 ],
 "metadata": {
  "kernelspec": {
   "display_name": "cv_env",
   "language": "python",
   "name": "python3"
  },
  "language_info": {
   "codemirror_mode": {
    "name": "ipython",
    "version": 3
   },
   "file_extension": ".py",
   "mimetype": "text/x-python",
   "name": "python",
   "nbconvert_exporter": "python",
   "pygments_lexer": "ipython3",
   "version": "3.10.7"
  }
 },
 "nbformat": 4,
 "nbformat_minor": 2
}
