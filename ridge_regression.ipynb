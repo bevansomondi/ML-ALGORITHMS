{
 "cells": [
  {
   "cell_type": "code",
   "execution_count": 2,
   "metadata": {},
   "outputs": [],
   "source": [
    "import numpy as np\n",
    "import matplotlib.pyplot as plt\n",
    "import pandas as pd\n",
    "import matplotlib.pyplot as plt \n",
    "from sklearn.model_selection import train_test_split"
   ]
  },
  {
   "cell_type": "code",
   "execution_count": 3,
   "metadata": {},
   "outputs": [],
   "source": [
    "class ridgeRegresion:\n",
    "    def __init__(self, alpha):\n",
    "        self.alpha = alpha\n",
    "        self.weights = None\n",
    "\n",
    "    def train(self, X, y):\n",
    "        X = np.append(np.ones((X.shape[0], 1)),X, axis=1)\n",
    "        #solve for the weight matrix using Moore Penrose Inverse\n",
    "\n",
    "        #the penalty\n",
    "        #create the identy matrix \n",
    "        I = np.identity(X.shape[1])\n",
    "        #since the bias term is not to be penalized esure that the second row \n",
    "        #of the identity matrix is all zeros\n",
    "        I[0][0] = 0\n",
    "        penalty = self.alpha * I\n",
    "        self.weights = np.linalg.inv(np.dot(X.T, X) + penalty)\n",
    "        self.weights = self.weights.dot(X.T).dot(y)\n",
    "\n",
    "        print(self.weights)\n",
    "\n",
    "    def predict(self, X):\n",
    "        X = np.append(np.ones((X.shape[0], 1)),X, axis=1)\n",
    "        predictions = X.dot(self.weights)\n",
    "\n",
    "        return predictions\n",
    "        "
   ]
  },
  {
   "cell_type": "code",
   "execution_count": 11,
   "metadata": {},
   "outputs": [],
   "source": [
    "X_ = np.random.randn(50,2)\n",
    "y = 2*X_[:, 0] + 3*X_[:, 1] + 5"
   ]
  },
  {
   "cell_type": "code",
   "execution_count": 12,
   "metadata": {},
   "outputs": [
    {
     "name": "stdout",
     "output_type": "stream",
     "text": [
      "[5.00425365 1.92168061 2.91525133]\n"
     ]
    }
   ],
   "source": [
    "ridge = ridgeRegresion(alpha=2)\n",
    "ridge.train(X_, y)\n",
    "preds = ridge.predict(X_)\n",
    "\n"
   ]
  }
 ],
 "metadata": {
  "kernelspec": {
   "display_name": "cv_env",
   "language": "python",
   "name": "python3"
  },
  "language_info": {
   "codemirror_mode": {
    "name": "ipython",
    "version": 3
   },
   "file_extension": ".py",
   "mimetype": "text/x-python",
   "name": "python",
   "nbconvert_exporter": "python",
   "pygments_lexer": "ipython3",
   "version": "3.10.7"
  }
 },
 "nbformat": 4,
 "nbformat_minor": 2
}
