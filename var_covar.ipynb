{
 "cells": [
  {
   "cell_type": "code",
   "execution_count": 1,
   "metadata": {},
   "outputs": [],
   "source": [
    "import numpy as np\n",
    "import matplotlib.pyplot as plt "
   ]
  },
  {
   "cell_type": "code",
   "execution_count": 9,
   "metadata": {},
   "outputs": [
    {
     "data": {
      "text/plain": [
       "(array([[ 2,  3,  9],\n",
       "        [ 4,  6,  7],\n",
       "        [ 6,  9,  5],\n",
       "        [ 8, 12,  3],\n",
       "        [10, 15,  1]]),\n",
       " array([6., 9., 5.]))"
      ]
     },
     "execution_count": 9,
     "metadata": {},
     "output_type": "execute_result"
    }
   ],
   "source": [
    "X = np.array([2,4,6,8,10])\n",
    "Y = np.array([3,6,9,12,15])\n",
    "Z = np.array([9,7,5,3,1])\n",
    "\n",
    "mat = np.vstack((X, Y, Z))\n",
    "#work with the transpose since the column should represent the feature vectors \n",
    "m = np.mean(mat.T,axis=0)\n",
    "mat.T, m"
   ]
  },
  {
   "cell_type": "code",
   "execution_count": 10,
   "metadata": {},
   "outputs": [],
   "source": [
    "k = mat.T - m\n",
    "covar_matrix = k.T.dot(k) / k.shape[0]"
   ]
  },
  {
   "cell_type": "code",
   "execution_count": 11,
   "metadata": {},
   "outputs": [
    {
     "data": {
      "text/plain": [
       "array([[  8.,  12.,  -8.],\n",
       "       [ 12.,  18., -12.],\n",
       "       [ -8., -12.,   8.]])"
      ]
     },
     "execution_count": 11,
     "metadata": {},
     "output_type": "execute_result"
    }
   ],
   "source": [
    "covar_matrix"
   ]
  },
  {
   "cell_type": "code",
   "execution_count": null,
   "metadata": {},
   "outputs": [],
   "source": []
  }
 ],
 "metadata": {
  "kernelspec": {
   "display_name": "cv_env",
   "language": "python",
   "name": "python3"
  },
  "language_info": {
   "codemirror_mode": {
    "name": "ipython",
    "version": 3
   },
   "file_extension": ".py",
   "mimetype": "text/x-python",
   "name": "python",
   "nbconvert_exporter": "python",
   "pygments_lexer": "ipython3",
   "version": "3.10.7"
  }
 },
 "nbformat": 4,
 "nbformat_minor": 2
}
